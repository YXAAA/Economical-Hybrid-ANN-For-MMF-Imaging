{
 "cells": [
  {
   "cell_type": "code",
   "execution_count": 3,
   "metadata": {},
   "outputs": [],
   "source": [
    "import matplotlib.pyplot as plt\n",
    "import h5py  #导入工具包\n",
    "import numpy as np\n",
    "import os\n",
    "#基于GPU的深度学习不需要双精度\n",
    "#HDF5的写入：\n",
    "# imgData = np.zeros((30,3,128,256))\n",
    "# f = h5py.File('HDF5_FILE.h5','w')   #创建一个h5文件，文件指针是f\n",
    "# f['data'] = imgData                 #将数据写入文件的主键data下面\n",
    "# f['labels'] = range(100)            #将数据写入文件的主键labels下面\n",
    "# f.close()                           #关闭文件\n",
    "#a = f['data'][:]                    #取出主键为data的所有的键值\n",
    "#f.close()\n",
    "#HDF5的读取：\n",
    "#file = r'C:\\Users\\adminishtor\\Desktop\\pytorch\\_ speckle_to_image\\figures\\fig3\\fig3c_RGB_raw_data.h5'\n",
    "# f = h5py.File(file,'r')   #打开h5文件\n",
    "#f.close()\n",
    "# f.keys()                            #可以查看所有的主键\n",
    "# f['speckles']\n",
    "# np.array(fl)"
   ]
  },
  {
   "cell_type": "code",
   "execution_count": 5,
   "metadata": {},
   "outputs": [],
   "source": [
    "#在C:\\Users\\adminishtor\\Desktop\\pytorch\\_ speckle_to_image存储一个包含2000张图片的小样\n",
    "#python不能用‘\\’结尾\n",
    "dir1 =r\"/root/code\"\n",
    "file1 = r\"Data_1m.h5\"\n",
    "f1 = h5py.File(dir1+'//'+file1,'r') \n",
    "\n",
    "#destination path\n",
    "#默认会被转换为float64 需要改变为float32\n",
    "startFileIndex =0\n",
    "FileNum = 45000\n",
    "destinationFile = h5py.File('DataSet'+str(FileNum)+'.h5','w') \n",
    "destinationFile['samples'] = (f1['Training']['Speckle_images']['ImageNet'][startFileIndex:FileNum+startFileIndex].astype(np.float32)).reshape(FileNum,1,120,120)       \n",
    "destinationFile['labels']  = (f1['Training']['Original_images']['ImageNet'][startFileIndex:FileNum+startFileIndex].astype(np.float32)).reshape(FileNum,1,92,92)   \n",
    "destinationFile.close()\n",
    "f1.close()"
   ]
  },
  {
   "cell_type": "code",
   "execution_count": 6,
   "metadata": {},
   "outputs": [],
   "source": [
    "#在C:\\Users\\adminishtor\\Desktop\\pytorch\\_ speckle_to_image存储一个包含2000张图片的小样\n",
    "#python不能用‘\\’结尾\n",
    "dir1 =r\"/root/code\"\n",
    "file1 = r\"Data_1m.h5\"\n",
    "f1 = h5py.File(dir1+'//'+file1,'r') \n",
    "\n",
    "#destination path\n",
    "#默认会被转换为float64 需要改变为float32\n",
    "startFileIndex =45000\n",
    "FileNum = 500\n",
    "destinationFile = h5py.File('DataSet'+str(FileNum)+'.h5','w') \n",
    "destinationFile['samples'] = (f1['Training']['Speckle_images']['ImageNet'][startFileIndex:FileNum+startFileIndex].astype(np.float32)).reshape(FileNum,1,120,120)       \n",
    "destinationFile['labels']  = (f1['Training']['Original_images']['ImageNet'][startFileIndex:FileNum+startFileIndex].astype(np.float32)).reshape(FileNum,1,92,92)   \n",
    "destinationFile.close()\n",
    "f1.close()"
   ]
  },
  {
   "cell_type": "code",
   "execution_count": null,
   "metadata": {},
   "outputs": [],
   "source": []
  }
 ],
 "metadata": {
  "kernelspec": {
   "display_name": "Python 3",
   "language": "python",
   "name": "python3"
  },
  "language_info": {
   "codemirror_mode": {
    "name": "ipython",
    "version": 3
   },
   "file_extension": ".py",
   "mimetype": "text/x-python",
   "name": "python",
   "nbconvert_exporter": "python",
   "pygments_lexer": "ipython3",
   "version": "3.8.3"
  }
 },
 "nbformat": 4,
 "nbformat_minor": 2
}
